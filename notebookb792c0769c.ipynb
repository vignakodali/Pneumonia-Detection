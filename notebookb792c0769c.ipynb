{
 "cells": [
  {
   "cell_type": "markdown",
   "id": "344c146e",
   "metadata": {
    "papermill": {
     "duration": 0.063886,
     "end_time": "2023-09-01T22:08:16.818851",
     "exception": false,
     "start_time": "2023-09-01T22:08:16.754965",
     "status": "completed"
    },
    "tags": []
   },
   "source": [
    "# Load modules"
   ]
  },
  {
   "cell_type": "code",
   "execution_count": 1,
   "id": "d929b190",
   "metadata": {
    "execution": {
     "iopub.execute_input": "2023-09-01T22:08:16.942097Z",
     "iopub.status.busy": "2023-09-01T22:08:16.941427Z",
     "iopub.status.idle": "2023-09-01T22:08:23.153969Z",
     "shell.execute_reply": "2023-09-01T22:08:23.153007Z"
    },
    "papermill": {
     "duration": 6.277784,
     "end_time": "2023-09-01T22:08:23.156461",
     "exception": false,
     "start_time": "2023-09-01T22:08:16.878677",
     "status": "completed"
    },
    "tags": []
   },
   "outputs": [],
   "source": [
    "import os\n",
    "import numpy as np\n",
    "import pandas as pd \n",
    "import matplotlib.pyplot as plt\n",
    "import seaborn as sns\n",
    "import tensorflow as tf\n",
    "from tensorflow import keras\n",
    "\n",
    "from keras.models import Sequential\n",
    "from keras.layers import Dense, Conv2D, MaxPool2D, Dropout, Flatten, BatchNormalization, Activation\n",
    "\n",
    "import keras\n",
    "from keras.models import Sequential\n",
    "from keras.layers import Dense, Conv2D , MaxPool2D , Flatten , Dropout , BatchNormalization\n",
    "from keras.preprocessing.image import ImageDataGenerator\n",
    "from sklearn.model_selection import train_test_split\n",
    "from sklearn.metrics import classification_report,confusion_matrix\n",
    "from keras.callbacks import ReduceLROnPlateau\n",
    "import cv2\n",
    "import os\n",
    "\n",
    "import pandas as pd       \n",
    "import matplotlib as mat\n",
    "import matplotlib.pyplot as plt    \n",
    "import numpy as np\n",
    "import seaborn as sns\n",
    "%matplotlib inline\n",
    "\n",
    "pd.options.display.max_colwidth = 100\n",
    "\n",
    "import random\n",
    "import os\n",
    "\n",
    "from numpy.random import seed\n",
    "seed(42)\n",
    "\n",
    "random.seed(42)\n",
    "os.environ['PYTHONHASHSEED'] = str(42)\n",
    "os.environ['TF_DETERMINISTIC_OPS'] = '1'\n",
    "\n",
    "from sklearn.model_selection import train_test_split\n",
    "from sklearn import metrics\n",
    "from sklearn.metrics import accuracy_score\n",
    "\n",
    "import tensorflow as tf\n",
    "from tensorflow import keras\n",
    "from tensorflow.keras import layers\n",
    "from tensorflow.keras import callbacks\n",
    "from tensorflow.keras.models import Model\n",
    "from tensorflow.keras.preprocessing.image import ImageDataGenerator\n",
    "\n",
    "import glob\n",
    "import cv2\n",
    "\n",
    "from tensorflow.random import set_seed\n",
    "set_seed(42)\n",
    "\n",
    "import warnings\n",
    "warnings.filterwarnings('ignore')"
   ]
  },
  {
   "cell_type": "code",
   "execution_count": 2,
   "id": "4b7c8370",
   "metadata": {
    "execution": {
     "iopub.execute_input": "2023-09-01T22:08:23.279033Z",
     "iopub.status.busy": "2023-09-01T22:08:23.278710Z",
     "iopub.status.idle": "2023-09-01T22:08:23.289786Z",
     "shell.execute_reply": "2023-09-01T22:08:23.288521Z"
    },
    "papermill": {
     "duration": 0.074935,
     "end_time": "2023-09-01T22:08:23.291833",
     "exception": false,
     "start_time": "2023-09-01T22:08:23.216898",
     "status": "completed"
    },
    "tags": []
   },
   "outputs": [
    {
     "name": "stdout",
     "output_type": "stream",
     "text": [
      " All directories of the chest_xray dataset are as follows:  ['chest_xray', '__MACOSX', 'val', 'test', 'train']\n"
     ]
    }
   ],
   "source": [
    "print(\" All directories of the chest_xray dataset are as follows: \", os.listdir(\"../input/chest-xray-pneumonia/chest_xray/\"))"
   ]
  },
  {
   "cell_type": "markdown",
   "id": "aa228c38",
   "metadata": {
    "papermill": {
     "duration": 0.059256,
     "end_time": "2023-09-01T22:08:23.411277",
     "exception": false,
     "start_time": "2023-09-01T22:08:23.352021",
     "status": "completed"
    },
    "tags": []
   },
   "source": [
    "# Checking the count of pneumonia and normal images in the provided dataset."
   ]
  },
  {
   "cell_type": "code",
   "execution_count": 3,
   "id": "42d62667",
   "metadata": {
    "execution": {
     "iopub.execute_input": "2023-09-01T22:08:23.535128Z",
     "iopub.status.busy": "2023-09-01T22:08:23.534544Z",
     "iopub.status.idle": "2023-09-01T22:08:24.146470Z",
     "shell.execute_reply": "2023-09-01T22:08:24.145688Z"
    },
    "papermill": {
     "duration": 0.677375,
     "end_time": "2023-09-01T22:08:24.148489",
     "exception": false,
     "start_time": "2023-09-01T22:08:23.471114",
     "status": "completed"
    },
    "tags": []
   },
   "outputs": [
    {
     "name": "stdout",
     "output_type": "stream",
     "text": [
      "Train set:\n",
      "=================\n",
      "PNEUMONIA=3875\n",
      "NORMAL=1341\n",
      "   \n",
      "Test set:\n",
      "=================\n",
      "PNEUMONIA=390\n",
      "NORMAL=234\n",
      "   \n",
      "Validation set:\n",
      "================\n",
      "PNEUMONIA=8\n",
      "NORMAL=8\n"
     ]
    }
   ],
   "source": [
    "train_dir = \"../input/chest-xray-pneumonia/chest_xray/train\"\n",
    "test_dir = \"../input/chest-xray-pneumonia/chest_xray/test\"\n",
    "val_dir = \"../input/chest-xray-pneumonia/chest_xray/val\"\n",
    "\n",
    "print(\"Train set:\\n=================\")\n",
    "print(f\"PNEUMONIA={len(os.listdir(os.path.join(train_dir, 'PNEUMONIA')))}\")\n",
    "print(f\"NORMAL={len(os.listdir(os.path.join(train_dir, 'NORMAL')))}\")\n",
    "\n",
    "print(\"   \")\n",
    "print(\"Test set:\\n=================\")\n",
    "print(f\"PNEUMONIA={len(os.listdir(os.path.join(test_dir, 'PNEUMONIA')))}\")\n",
    "print(f\"NORMAL={len(os.listdir(os.path.join(test_dir, 'NORMAL')))}\")\n",
    "\n",
    "print(\"   \")\n",
    "print(\"Validation set:\\n================\")\n",
    "print(f\"PNEUMONIA={len(os.listdir(os.path.join(val_dir, 'PNEUMONIA')))}\")\n",
    "print(f\"NORMAL={len(os.listdir(os.path.join(val_dir, 'NORMAL')))}\")"
   ]
  },
  {
   "cell_type": "markdown",
   "id": "754df721",
   "metadata": {
    "papermill": {
     "duration": 0.122399,
     "end_time": "2023-09-01T22:08:24.361036",
     "exception": false,
     "start_time": "2023-09-01T22:08:24.238637",
     "status": "completed"
    },
    "tags": []
   },
   "source": [
    "# Checking Image specific details"
   ]
  },
  {
   "cell_type": "markdown",
   "id": "3219151e",
   "metadata": {
    "papermill": {
     "duration": 0.098281,
     "end_time": "2023-09-01T22:08:24.556711",
     "exception": false,
     "start_time": "2023-09-01T22:08:24.458430",
     "status": "completed"
    },
    "tags": []
   },
   "source": [
    "# Preprocessing Starts"
   ]
  },
  {
   "cell_type": "code",
   "execution_count": 4,
   "id": "9cba1b2a",
   "metadata": {
    "execution": {
     "iopub.execute_input": "2023-09-01T22:08:24.742988Z",
     "iopub.status.busy": "2023-09-01T22:08:24.742663Z",
     "iopub.status.idle": "2023-09-01T22:08:24.746732Z",
     "shell.execute_reply": "2023-09-01T22:08:24.746083Z"
    },
    "papermill": {
     "duration": 0.100087,
     "end_time": "2023-09-01T22:08:24.750940",
     "exception": false,
     "start_time": "2023-09-01T22:08:24.650853",
     "status": "completed"
    },
    "tags": []
   },
   "outputs": [],
   "source": [
    "IMG_SIZE = 227\n",
    "BATCH = 32\n",
    "SEED = 42"
   ]
  },
  {
   "cell_type": "markdown",
   "id": "040ddcb9",
   "metadata": {
    "papermill": {
     "duration": 0.096735,
     "end_time": "2023-09-01T22:08:24.937983",
     "exception": false,
     "start_time": "2023-09-01T22:08:24.841248",
     "status": "completed"
    },
    "tags": []
   },
   "source": [
    "## Getting all the images and their corresponding lables into dataframe."
   ]
  },
  {
   "cell_type": "code",
   "execution_count": 5,
   "id": "1ff7b328",
   "metadata": {
    "execution": {
     "iopub.execute_input": "2023-09-01T22:08:25.119501Z",
     "iopub.status.busy": "2023-09-01T22:08:25.119190Z",
     "iopub.status.idle": "2023-09-01T22:08:25.166614Z",
     "shell.execute_reply": "2023-09-01T22:08:25.165895Z"
    },
    "papermill": {
     "duration": 0.138096,
     "end_time": "2023-09-01T22:08:25.169304",
     "exception": false,
     "start_time": "2023-09-01T22:08:25.031208",
     "status": "completed"
    },
    "tags": []
   },
   "outputs": [],
   "source": [
    "main_path = \"../input/chest-xray-pneumonia/chest_xray\"\n",
    "\n",
    "train_path = os.path.join(main_path,\"train\")\n",
    "test_path=os.path.join(main_path,\"test\")\n",
    "\n",
    "train_normal = glob.glob(train_path+\"/NORMAL/*.jpeg\")\n",
    "train_pneumonia = glob.glob(train_path+\"/PNEUMONIA/*.jpeg\")\n",
    "\n",
    "test_normal = glob.glob(test_path+\"/NORMAL/*.jpeg\")\n",
    "test_pneumonia = glob.glob(test_path+\"/PNEUMONIA/*.jpeg\")"
   ]
  },
  {
   "cell_type": "code",
   "execution_count": 6,
   "id": "0c9c2af8",
   "metadata": {
    "execution": {
     "iopub.execute_input": "2023-09-01T22:08:25.348683Z",
     "iopub.status.busy": "2023-09-01T22:08:25.348338Z",
     "iopub.status.idle": "2023-09-01T22:08:25.374785Z",
     "shell.execute_reply": "2023-09-01T22:08:25.374082Z"
    },
    "papermill": {
     "duration": 0.118513,
     "end_time": "2023-09-01T22:08:25.377354",
     "exception": false,
     "start_time": "2023-09-01T22:08:25.258841",
     "status": "completed"
    },
    "tags": []
   },
   "outputs": [],
   "source": [
    "train_list = [x for x in train_normal]\n",
    "train_list.extend([x for x in train_pneumonia])\n",
    "\n",
    "df_train = pd.DataFrame(np.concatenate([['Normal']*len(train_normal) , ['Pneumonia']*len(train_pneumonia)]), columns = ['class'])\n",
    "df_train['image'] = [x for x in train_list]\n",
    "\n",
    "test_list = [x for x in test_normal]\n",
    "test_list.extend([x for x in test_pneumonia])\n",
    "\n",
    "df_test = pd.DataFrame(np.concatenate([['Normal']*len(test_normal) , ['Pneumonia']*len(test_pneumonia)]), columns = ['class'])\n",
    "df_test['image'] = [x for x in test_list]"
   ]
  },
  {
   "cell_type": "code",
   "execution_count": 7,
   "id": "0dc35451",
   "metadata": {
    "execution": {
     "iopub.execute_input": "2023-09-01T22:08:25.576564Z",
     "iopub.status.busy": "2023-09-01T22:08:25.575948Z",
     "iopub.status.idle": "2023-09-01T22:08:25.594388Z",
     "shell.execute_reply": "2023-09-01T22:08:25.593555Z"
    },
    "papermill": {
     "duration": 0.125094,
     "end_time": "2023-09-01T22:08:25.597724",
     "exception": false,
     "start_time": "2023-09-01T22:08:25.472630",
     "status": "completed"
    },
    "tags": []
   },
   "outputs": [
    {
     "data": {
      "text/plain": [
       "390"
      ]
     },
     "execution_count": 7,
     "metadata": {},
     "output_type": "execute_result"
    }
   ],
   "source": [
    "temp1 = [x for x in test_pneumonia]\n",
    "len(temp1)"
   ]
  },
  {
   "cell_type": "code",
   "execution_count": 8,
   "id": "a657d1ba",
   "metadata": {
    "execution": {
     "iopub.execute_input": "2023-09-01T22:08:25.818550Z",
     "iopub.status.busy": "2023-09-01T22:08:25.817792Z",
     "iopub.status.idle": "2023-09-01T22:08:25.838917Z",
     "shell.execute_reply": "2023-09-01T22:08:25.838256Z"
    },
    "papermill": {
     "duration": 0.113451,
     "end_time": "2023-09-01T22:08:25.841490",
     "exception": false,
     "start_time": "2023-09-01T22:08:25.728039",
     "status": "completed"
    },
    "tags": []
   },
   "outputs": [
    {
     "data": {
      "text/html": [
       "<div>\n",
       "<style scoped>\n",
       "    .dataframe tbody tr th:only-of-type {\n",
       "        vertical-align: middle;\n",
       "    }\n",
       "\n",
       "    .dataframe tbody tr th {\n",
       "        vertical-align: top;\n",
       "    }\n",
       "\n",
       "    .dataframe thead th {\n",
       "        text-align: right;\n",
       "    }\n",
       "</style>\n",
       "<table border=\"1\" class=\"dataframe\">\n",
       "  <thead>\n",
       "    <tr style=\"text-align: right;\">\n",
       "      <th></th>\n",
       "      <th>class</th>\n",
       "      <th>image</th>\n",
       "    </tr>\n",
       "  </thead>\n",
       "  <tbody>\n",
       "    <tr>\n",
       "      <th>0</th>\n",
       "      <td>Normal</td>\n",
       "      <td>../input/chest-xray-pneumonia/chest_xray/train/NORMAL/NORMAL2-IM-0771-0001.jpeg</td>\n",
       "    </tr>\n",
       "    <tr>\n",
       "      <th>1</th>\n",
       "      <td>Normal</td>\n",
       "      <td>../input/chest-xray-pneumonia/chest_xray/train/NORMAL/NORMAL2-IM-1294-0001-0002.jpeg</td>\n",
       "    </tr>\n",
       "    <tr>\n",
       "      <th>2</th>\n",
       "      <td>Normal</td>\n",
       "      <td>../input/chest-xray-pneumonia/chest_xray/train/NORMAL/IM-0675-0001.jpeg</td>\n",
       "    </tr>\n",
       "    <tr>\n",
       "      <th>3</th>\n",
       "      <td>Normal</td>\n",
       "      <td>../input/chest-xray-pneumonia/chest_xray/train/NORMAL/NORMAL2-IM-1169-0001.jpeg</td>\n",
       "    </tr>\n",
       "    <tr>\n",
       "      <th>4</th>\n",
       "      <td>Normal</td>\n",
       "      <td>../input/chest-xray-pneumonia/chest_xray/train/NORMAL/IM-0421-0001.jpeg</td>\n",
       "    </tr>\n",
       "    <tr>\n",
       "      <th>...</th>\n",
       "      <td>...</td>\n",
       "      <td>...</td>\n",
       "    </tr>\n",
       "    <tr>\n",
       "      <th>5211</th>\n",
       "      <td>Pneumonia</td>\n",
       "      <td>../input/chest-xray-pneumonia/chest_xray/train/PNEUMONIA/person1541_virus_2681.jpeg</td>\n",
       "    </tr>\n",
       "    <tr>\n",
       "      <th>5212</th>\n",
       "      <td>Pneumonia</td>\n",
       "      <td>../input/chest-xray-pneumonia/chest_xray/train/PNEUMONIA/person799_virus_1431.jpeg</td>\n",
       "    </tr>\n",
       "    <tr>\n",
       "      <th>5213</th>\n",
       "      <td>Pneumonia</td>\n",
       "      <td>../input/chest-xray-pneumonia/chest_xray/train/PNEUMONIA/person931_virus_1592.jpeg</td>\n",
       "    </tr>\n",
       "    <tr>\n",
       "      <th>5214</th>\n",
       "      <td>Pneumonia</td>\n",
       "      <td>../input/chest-xray-pneumonia/chest_xray/train/PNEUMONIA/person861_virus_1506.jpeg</td>\n",
       "    </tr>\n",
       "    <tr>\n",
       "      <th>5215</th>\n",
       "      <td>Pneumonia</td>\n",
       "      <td>../input/chest-xray-pneumonia/chest_xray/train/PNEUMONIA/person1051_bacteria_2985.jpeg</td>\n",
       "    </tr>\n",
       "  </tbody>\n",
       "</table>\n",
       "<p>5216 rows × 2 columns</p>\n",
       "</div>"
      ],
      "text/plain": [
       "          class  \\\n",
       "0        Normal   \n",
       "1        Normal   \n",
       "2        Normal   \n",
       "3        Normal   \n",
       "4        Normal   \n",
       "...         ...   \n",
       "5211  Pneumonia   \n",
       "5212  Pneumonia   \n",
       "5213  Pneumonia   \n",
       "5214  Pneumonia   \n",
       "5215  Pneumonia   \n",
       "\n",
       "                                                                                       image  \n",
       "0            ../input/chest-xray-pneumonia/chest_xray/train/NORMAL/NORMAL2-IM-0771-0001.jpeg  \n",
       "1       ../input/chest-xray-pneumonia/chest_xray/train/NORMAL/NORMAL2-IM-1294-0001-0002.jpeg  \n",
       "2                    ../input/chest-xray-pneumonia/chest_xray/train/NORMAL/IM-0675-0001.jpeg  \n",
       "3            ../input/chest-xray-pneumonia/chest_xray/train/NORMAL/NORMAL2-IM-1169-0001.jpeg  \n",
       "4                    ../input/chest-xray-pneumonia/chest_xray/train/NORMAL/IM-0421-0001.jpeg  \n",
       "...                                                                                      ...  \n",
       "5211     ../input/chest-xray-pneumonia/chest_xray/train/PNEUMONIA/person1541_virus_2681.jpeg  \n",
       "5212      ../input/chest-xray-pneumonia/chest_xray/train/PNEUMONIA/person799_virus_1431.jpeg  \n",
       "5213      ../input/chest-xray-pneumonia/chest_xray/train/PNEUMONIA/person931_virus_1592.jpeg  \n",
       "5214      ../input/chest-xray-pneumonia/chest_xray/train/PNEUMONIA/person861_virus_1506.jpeg  \n",
       "5215  ../input/chest-xray-pneumonia/chest_xray/train/PNEUMONIA/person1051_bacteria_2985.jpeg  \n",
       "\n",
       "[5216 rows x 2 columns]"
      ]
     },
     "execution_count": 8,
     "metadata": {},
     "output_type": "execute_result"
    }
   ],
   "source": [
    "df_train"
   ]
  },
  {
   "cell_type": "code",
   "execution_count": 9,
   "id": "794e57a9",
   "metadata": {
    "execution": {
     "iopub.execute_input": "2023-09-01T22:08:25.993900Z",
     "iopub.status.busy": "2023-09-01T22:08:25.993547Z",
     "iopub.status.idle": "2023-09-01T22:08:26.006351Z",
     "shell.execute_reply": "2023-09-01T22:08:26.005228Z"
    },
    "papermill": {
     "duration": 0.082579,
     "end_time": "2023-09-01T22:08:26.009918",
     "exception": false,
     "start_time": "2023-09-01T22:08:25.927339",
     "status": "completed"
    },
    "tags": []
   },
   "outputs": [
    {
     "data": {
      "text/html": [
       "<div>\n",
       "<style scoped>\n",
       "    .dataframe tbody tr th:only-of-type {\n",
       "        vertical-align: middle;\n",
       "    }\n",
       "\n",
       "    .dataframe tbody tr th {\n",
       "        vertical-align: top;\n",
       "    }\n",
       "\n",
       "    .dataframe thead th {\n",
       "        text-align: right;\n",
       "    }\n",
       "</style>\n",
       "<table border=\"1\" class=\"dataframe\">\n",
       "  <thead>\n",
       "    <tr style=\"text-align: right;\">\n",
       "      <th></th>\n",
       "      <th>class</th>\n",
       "      <th>image</th>\n",
       "    </tr>\n",
       "  </thead>\n",
       "  <tbody>\n",
       "    <tr>\n",
       "      <th>0</th>\n",
       "      <td>Normal</td>\n",
       "      <td>../input/chest-xray-pneumonia/chest_xray/test/NORMAL/NORMAL2-IM-0336-0001.jpeg</td>\n",
       "    </tr>\n",
       "    <tr>\n",
       "      <th>1</th>\n",
       "      <td>Normal</td>\n",
       "      <td>../input/chest-xray-pneumonia/chest_xray/test/NORMAL/IM-0101-0001.jpeg</td>\n",
       "    </tr>\n",
       "    <tr>\n",
       "      <th>2</th>\n",
       "      <td>Normal</td>\n",
       "      <td>../input/chest-xray-pneumonia/chest_xray/test/NORMAL/NORMAL2-IM-0337-0001.jpeg</td>\n",
       "    </tr>\n",
       "    <tr>\n",
       "      <th>3</th>\n",
       "      <td>Normal</td>\n",
       "      <td>../input/chest-xray-pneumonia/chest_xray/test/NORMAL/NORMAL2-IM-0198-0001.jpeg</td>\n",
       "    </tr>\n",
       "    <tr>\n",
       "      <th>4</th>\n",
       "      <td>Normal</td>\n",
       "      <td>../input/chest-xray-pneumonia/chest_xray/test/NORMAL/IM-0013-0001.jpeg</td>\n",
       "    </tr>\n",
       "    <tr>\n",
       "      <th>...</th>\n",
       "      <td>...</td>\n",
       "      <td>...</td>\n",
       "    </tr>\n",
       "    <tr>\n",
       "      <th>619</th>\n",
       "      <td>Pneumonia</td>\n",
       "      <td>../input/chest-xray-pneumonia/chest_xray/test/PNEUMONIA/person1659_virus_2867.jpeg</td>\n",
       "    </tr>\n",
       "    <tr>\n",
       "      <th>620</th>\n",
       "      <td>Pneumonia</td>\n",
       "      <td>../input/chest-xray-pneumonia/chest_xray/test/PNEUMONIA/person1615_virus_2801.jpeg</td>\n",
       "    </tr>\n",
       "    <tr>\n",
       "      <th>621</th>\n",
       "      <td>Pneumonia</td>\n",
       "      <td>../input/chest-xray-pneumonia/chest_xray/test/PNEUMONIA/person1664_virus_2877.jpeg</td>\n",
       "    </tr>\n",
       "    <tr>\n",
       "      <th>622</th>\n",
       "      <td>Pneumonia</td>\n",
       "      <td>../input/chest-xray-pneumonia/chest_xray/test/PNEUMONIA/person111_bacteria_536.jpeg</td>\n",
       "    </tr>\n",
       "    <tr>\n",
       "      <th>623</th>\n",
       "      <td>Pneumonia</td>\n",
       "      <td>../input/chest-xray-pneumonia/chest_xray/test/PNEUMONIA/person152_bacteria_724.jpeg</td>\n",
       "    </tr>\n",
       "  </tbody>\n",
       "</table>\n",
       "<p>624 rows × 2 columns</p>\n",
       "</div>"
      ],
      "text/plain": [
       "         class  \\\n",
       "0       Normal   \n",
       "1       Normal   \n",
       "2       Normal   \n",
       "3       Normal   \n",
       "4       Normal   \n",
       "..         ...   \n",
       "619  Pneumonia   \n",
       "620  Pneumonia   \n",
       "621  Pneumonia   \n",
       "622  Pneumonia   \n",
       "623  Pneumonia   \n",
       "\n",
       "                                                                                   image  \n",
       "0         ../input/chest-xray-pneumonia/chest_xray/test/NORMAL/NORMAL2-IM-0336-0001.jpeg  \n",
       "1                 ../input/chest-xray-pneumonia/chest_xray/test/NORMAL/IM-0101-0001.jpeg  \n",
       "2         ../input/chest-xray-pneumonia/chest_xray/test/NORMAL/NORMAL2-IM-0337-0001.jpeg  \n",
       "3         ../input/chest-xray-pneumonia/chest_xray/test/NORMAL/NORMAL2-IM-0198-0001.jpeg  \n",
       "4                 ../input/chest-xray-pneumonia/chest_xray/test/NORMAL/IM-0013-0001.jpeg  \n",
       "..                                                                                   ...  \n",
       "619   ../input/chest-xray-pneumonia/chest_xray/test/PNEUMONIA/person1659_virus_2867.jpeg  \n",
       "620   ../input/chest-xray-pneumonia/chest_xray/test/PNEUMONIA/person1615_virus_2801.jpeg  \n",
       "621   ../input/chest-xray-pneumonia/chest_xray/test/PNEUMONIA/person1664_virus_2877.jpeg  \n",
       "622  ../input/chest-xray-pneumonia/chest_xray/test/PNEUMONIA/person111_bacteria_536.jpeg  \n",
       "623  ../input/chest-xray-pneumonia/chest_xray/test/PNEUMONIA/person152_bacteria_724.jpeg  \n",
       "\n",
       "[624 rows x 2 columns]"
      ]
     },
     "execution_count": 9,
     "metadata": {},
     "output_type": "execute_result"
    }
   ],
   "source": [
    "df_test"
   ]
  },
  {
   "cell_type": "markdown",
   "id": "4e94fb09",
   "metadata": {
    "papermill": {
     "duration": 0.065711,
     "end_time": "2023-09-01T22:08:26.139489",
     "exception": false,
     "start_time": "2023-09-01T22:08:26.073778",
     "status": "completed"
    },
    "tags": []
   },
   "source": [
    "# Test Train Split with stratified sampling and shuffle as True"
   ]
  },
  {
   "cell_type": "code",
   "execution_count": 10,
   "id": "95a9891b",
   "metadata": {
    "execution": {
     "iopub.execute_input": "2023-09-01T22:08:26.273199Z",
     "iopub.status.busy": "2023-09-01T22:08:26.272927Z",
     "iopub.status.idle": "2023-09-01T22:08:26.291213Z",
     "shell.execute_reply": "2023-09-01T22:08:26.290520Z"
    },
    "papermill": {
     "duration": 0.085616,
     "end_time": "2023-09-01T22:08:26.293371",
     "exception": false,
     "start_time": "2023-09-01T22:08:26.207755",
     "status": "completed"
    },
    "tags": []
   },
   "outputs": [],
   "source": [
    "train_df, val_df = train_test_split(df_train, test_size = 0.20, random_state = SEED, stratify = df_train['class'], shuffle=True)"
   ]
  },
  {
   "cell_type": "code",
   "execution_count": 11,
   "id": "97d70661",
   "metadata": {
    "execution": {
     "iopub.execute_input": "2023-09-01T22:08:26.421534Z",
     "iopub.status.busy": "2023-09-01T22:08:26.421243Z",
     "iopub.status.idle": "2023-09-01T22:08:26.426926Z",
     "shell.execute_reply": "2023-09-01T22:08:26.426007Z"
    },
    "papermill": {
     "duration": 0.073491,
     "end_time": "2023-09-01T22:08:26.430493",
     "exception": false,
     "start_time": "2023-09-01T22:08:26.357002",
     "status": "completed"
    },
    "tags": []
   },
   "outputs": [
    {
     "name": "stdout",
     "output_type": "stream",
     "text": [
      "Training data shape is :  (4172, 2)\n",
      "Validation data shape is :  (1044, 2)\n"
     ]
    }
   ],
   "source": [
    "print(\"Training data shape is : \", train_df.shape)\n",
    "print(\"Validation data shape is : \", val_df.shape)"
   ]
  },
  {
   "cell_type": "markdown",
   "id": "b2d9d737",
   "metadata": {
    "papermill": {
     "duration": 0.067885,
     "end_time": "2023-09-01T22:08:26.562828",
     "exception": false,
     "start_time": "2023-09-01T22:08:26.494943",
     "status": "completed"
    },
    "tags": []
   },
   "source": [
    "# Initializing ImagedataGenerator"
   ]
  },
  {
   "cell_type": "code",
   "execution_count": 12,
   "id": "3d9d7e0e",
   "metadata": {
    "execution": {
     "iopub.execute_input": "2023-09-01T22:08:26.697878Z",
     "iopub.status.busy": "2023-09-01T22:08:26.697580Z",
     "iopub.status.idle": "2023-09-01T22:08:26.702931Z",
     "shell.execute_reply": "2023-09-01T22:08:26.702042Z"
    },
    "papermill": {
     "duration": 0.075505,
     "end_time": "2023-09-01T22:08:26.705377",
     "exception": false,
     "start_time": "2023-09-01T22:08:26.629872",
     "status": "completed"
    },
    "tags": []
   },
   "outputs": [],
   "source": [
    "train_datagen = ImageDataGenerator(rescale=1/255.,\n",
    "                                  zoom_range = 0.1,\n",
    "                                  width_shift_range = 0.1,\n",
    "                                  height_shift_range = 0.1)\n",
    "\n",
    "val_datagen = ImageDataGenerator(rescale=1/255.)"
   ]
  },
  {
   "cell_type": "code",
   "execution_count": 13,
   "id": "5915247b",
   "metadata": {
    "execution": {
     "iopub.execute_input": "2023-09-01T22:08:26.832397Z",
     "iopub.status.busy": "2023-09-01T22:08:26.832124Z",
     "iopub.status.idle": "2023-09-01T22:08:35.712471Z",
     "shell.execute_reply": "2023-09-01T22:08:35.711668Z"
    },
    "papermill": {
     "duration": 8.94619,
     "end_time": "2023-09-01T22:08:35.714528",
     "exception": false,
     "start_time": "2023-09-01T22:08:26.768338",
     "status": "completed"
    },
    "tags": []
   },
   "outputs": [
    {
     "name": "stdout",
     "output_type": "stream",
     "text": [
      "Found 4172 validated image filenames belonging to 2 classes.\n",
      "Found 1044 validated image filenames belonging to 2 classes.\n",
      "Found 624 validated image filenames belonging to 2 classes.\n"
     ]
    }
   ],
   "source": [
    "ds_train = train_datagen.flow_from_dataframe(train_df,\n",
    "                                             x_col = 'image',\n",
    "                                             y_col = 'class',\n",
    "                                             target_size = (IMG_SIZE, IMG_SIZE),\n",
    "                                             class_mode = 'binary',\n",
    "                                             batch_size = BATCH,\n",
    "                                             seed = SEED)\n",
    "\n",
    "ds_val = val_datagen.flow_from_dataframe(val_df,\n",
    "                                        x_col = 'image',\n",
    "                                        y_col = 'class',\n",
    "                                        target_size = (IMG_SIZE, IMG_SIZE),\n",
    "                                        class_mode = 'binary',\n",
    "                                        batch_size = BATCH,\n",
    "                                        seed = SEED)\n",
    "\n",
    "ds_test = val_datagen.flow_from_dataframe(df_test,\n",
    "                                        x_col = 'image',\n",
    "                                        y_col = 'class',\n",
    "                                        target_size = (IMG_SIZE, IMG_SIZE),\n",
    "                                        class_mode = 'binary',\n",
    "                                        batch_size = 1,\n",
    "                                        shuffle = False)"
   ]
  },
  {
   "cell_type": "code",
   "execution_count": 14,
   "id": "12fb994f",
   "metadata": {
    "execution": {
     "iopub.execute_input": "2023-09-01T22:08:35.846221Z",
     "iopub.status.busy": "2023-09-01T22:08:35.845938Z",
     "iopub.status.idle": "2023-09-01T22:08:35.855844Z",
     "shell.execute_reply": "2023-09-01T22:08:35.854963Z"
    },
    "papermill": {
     "duration": 0.077573,
     "end_time": "2023-09-01T22:08:35.858225",
     "exception": false,
     "start_time": "2023-09-01T22:08:35.780652",
     "status": "completed"
    },
    "tags": []
   },
   "outputs": [
    {
     "name": "stdout",
     "output_type": "stream",
     "text": [
      "Weight for class 0: 0.74\n",
      "Weight for class 1: 0.26\n"
     ]
    }
   ],
   "source": [
    "# Class weights\n",
    "num_pneumonia = len(os.listdir(os.path.join(train_dir, 'PNEUMONIA')))\n",
    "num_normal = len(os.listdir(os.path.join(train_dir, 'NORMAL')))\n",
    "weight_for_0 = num_pneumonia / (num_normal + num_pneumonia)\n",
    "weight_for_1 = num_normal / (num_normal + num_pneumonia)\n",
    "class_weight = {0: weight_for_0, 1: weight_for_1}\n",
    "print(f\"Weight for class 0: {weight_for_0:.2f}\")\n",
    "print(f\"Weight for class 1: {weight_for_1:.2f}\")"
   ]
  },
  {
   "cell_type": "markdown",
   "id": "754d2828",
   "metadata": {
    "papermill": {
     "duration": 0.064728,
     "end_time": "2023-09-01T22:08:35.987754",
     "exception": false,
     "start_time": "2023-09-01T22:08:35.923026",
     "status": "completed"
    },
    "tags": []
   },
   "source": [
    "# Building Models."
   ]
  },
  {
   "cell_type": "markdown",
   "id": "9998526a",
   "metadata": {
    "execution": {
     "iopub.execute_input": "2022-04-30T13:06:21.555413Z",
     "iopub.status.busy": "2022-04-30T13:06:21.554993Z",
     "iopub.status.idle": "2022-04-30T13:06:21.559084Z",
     "shell.execute_reply": "2022-04-30T13:06:21.558328Z",
     "shell.execute_reply.started": "2022-04-30T13:06:21.555374Z"
    },
    "papermill": {
     "duration": 0.064818,
     "end_time": "2023-09-01T22:08:36.117916",
     "exception": false,
     "start_time": "2023-09-01T22:08:36.053098",
     "status": "completed"
    },
    "tags": []
   },
   "source": [
    "# Building Alexnet Model"
   ]
  },
  {
   "attachments": {
    "7d7002a5-6a61-46b7-835f-0d41c5cf80c7.png": {
     "image/png": "[encoded data removed]"
    }
   },
   "cell_type": "markdown",
   "id": "f437fdb1",
   "metadata": {
    "papermill": {
     "duration": 0.06453,
     "end_time": "2023-09-01T22:08:36.248161",
     "exception": false,
     "start_time": "2023-09-01T22:08:36.183631",
     "status": "completed"
    },
    "tags": []
   },
   "source": [
    "1. Architecture - ![Screenshot 2022-04-30 at 6.38.53 PM.png](attachment:7d7002a5-6a61-46b7-835f-0d41c5cf80c7.png)\n"
   ]
  },
  {
   "cell_type": "code",
   "execution_count": 15,
   "id": "89a2e1db",
   "metadata": {
    "execution": {
     "iopub.execute_input": "2023-09-01T22:08:36.378273Z",
     "iopub.status.busy": "2023-09-01T22:08:36.377995Z",
     "iopub.status.idle": "2023-09-01T22:08:39.237477Z",
     "shell.execute_reply": "2023-09-01T22:08:39.236646Z"
    },
    "papermill": {
     "duration": 2.926996,
     "end_time": "2023-09-01T22:08:39.239517",
     "exception": false,
     "start_time": "2023-09-01T22:08:36.312521",
     "status": "completed"
    },
    "tags": []
   },
   "outputs": [
    {
     "name": "stdout",
     "output_type": "stream",
     "text": [
      "Model: \"sequential\"\n",
      "_________________________________________________________________\n",
      "Layer (type)                 Output Shape              Param #   \n",
      "=================================================================\n",
      "conv2d (Conv2D)              (None, 57, 57, 96)        34944     \n",
      "_________________________________________________________________\n",
      "batch_normalization (BatchNo (None, 57, 57, 96)        384       \n",
      "_________________________________________________________________\n",
      "activation (Activation)      (None, 57, 57, 96)        0         \n",
      "_________________________________________________________________\n",
      "max_pooling2d (MaxPooling2D) (None, 29, 29, 96)        0         \n",
      "_________________________________________________________________\n",
      "conv2d_1 (Conv2D)            (None, 29, 29, 256)       614656    \n",
      "_________________________________________________________________\n",
      "batch_normalization_1 (Batch (None, 29, 29, 256)       1024      \n",
      "_________________________________________________________________\n",
      "activation_1 (Activation)    (None, 29, 29, 256)       0         \n",
      "_________________________________________________________________\n",
      "max_pooling2d_1 (MaxPooling2 (None, 15, 15, 256)       0         \n",
      "_________________________________________________________________\n",
      "conv2d_2 (Conv2D)            (None, 15, 15, 384)       885120    \n",
      "_________________________________________________________________\n",
      "batch_normalization_2 (Batch (None, 15, 15, 384)       1536      \n",
      "_________________________________________________________________\n",
      "activation_2 (Activation)    (None, 15, 15, 384)       0         \n",
      "_________________________________________________________________\n",
      "conv2d_3 (Conv2D)            (None, 15, 15, 384)       1327488   \n",
      "_________________________________________________________________\n",
      "batch_normalization_3 (Batch (None, 15, 15, 384)       1536      \n",
      "_________________________________________________________________\n",
      "activation_3 (Activation)    (None, 15, 15, 384)       0         \n",
      "_________________________________________________________________\n",
      "conv2d_4 (Conv2D)            (None, 15, 15, 256)       884992    \n",
      "_________________________________________________________________\n",
      "batch_normalization_4 (Batch (None, 15, 15, 256)       1024      \n",
      "_________________________________________________________________\n",
      "activation_4 (Activation)    (None, 15, 15, 256)       0         \n",
      "_________________________________________________________________\n",
      "max_pooling2d_2 (MaxPooling2 (None, 8, 8, 256)         0         \n",
      "_________________________________________________________________\n",
      "flatten (Flatten)            (None, 16384)             0         \n",
      "_________________________________________________________________\n",
      "dense (Dense)                (None, 4096)              67112960  \n",
      "_________________________________________________________________\n",
      "batch_normalization_5 (Batch (None, 4096)              16384     \n",
      "_________________________________________________________________\n",
      "activation_5 (Activation)    (None, 4096)              0         \n",
      "_________________________________________________________________\n",
      "dropout (Dropout)            (None, 4096)              0         \n",
      "_________________________________________________________________\n",
      "dense_1 (Dense)              (None, 4096)              16781312  \n",
      "_________________________________________________________________\n",
      "batch_normalization_6 (Batch (None, 4096)              16384     \n",
      "_________________________________________________________________\n",
      "activation_6 (Activation)    (None, 4096)              0         \n",
      "_________________________________________________________________\n",
      "dropout_1 (Dropout)          (None, 4096)              0         \n",
      "_________________________________________________________________\n",
      "dense_2 (Dense)              (None, 1)                 4097      \n",
      "_________________________________________________________________\n",
      "activation_7 (Activation)    (None, 1)                 0         \n",
      "=================================================================\n",
      "Total params: 87,683,841\n",
      "Trainable params: 87,664,705\n",
      "Non-trainable params: 19,136\n",
      "_________________________________________________________________\n"
     ]
    }
   ],
   "source": [
    "# Initializing\n",
    "AlexNet = Sequential()\n",
    "\n",
    "# 1st Convolutional Layer\n",
    "AlexNet.add(Conv2D(filters=96, input_shape=(227,227,3), kernel_size=(11,11), strides=(4,4), padding='same'))\n",
    "AlexNet.add(BatchNormalization())\n",
    "AlexNet.add(Activation('relu'))\n",
    "AlexNet.add(MaxPool2D(pool_size=(2,2), strides=(2,2), padding='same'))\n",
    "\n",
    "# 2nd Convolutional Layer\n",
    "AlexNet.add(Conv2D(filters=256, kernel_size=(5, 5), strides=(1,1), padding='same'))\n",
    "AlexNet.add(BatchNormalization())\n",
    "AlexNet.add(Activation('relu'))\n",
    "AlexNet.add(MaxPool2D(pool_size=(2,2), strides=(2,2), padding='same'))\n",
    "\n",
    "# 3rd Convolutional Layer\n",
    "AlexNet.add(Conv2D(filters=384, kernel_size=(3,3), strides=(1,1), padding='same'))\n",
    "AlexNet.add(BatchNormalization())\n",
    "AlexNet.add(Activation('relu'))\n",
    "\n",
    "# 4th Convolutional Layer\n",
    "AlexNet.add(Conv2D(filters=384, kernel_size=(3,3), strides=(1,1), padding='same'))\n",
    "AlexNet.add(BatchNormalization())\n",
    "AlexNet.add(Activation('relu'))\n",
    "\n",
    "# 5th Convolutional Layer\n",
    "AlexNet.add(Conv2D(filters=256, kernel_size=(3,3), strides=(1,1), padding='same'))\n",
    "AlexNet.add(BatchNormalization())\n",
    "AlexNet.add(Activation('relu'))\n",
    "AlexNet.add(MaxPool2D(pool_size=(2,2), strides=(2,2), padding='same'))\n",
    "\n",
    "# Passing it to a Fully Connected layer\n",
    "AlexNet.add(Flatten())\n",
    "# 1st Fully Connected Layer\n",
    "AlexNet.add(Dense(4096, input_shape=(32,32,3,)))\n",
    "AlexNet.add(BatchNormalization())\n",
    "AlexNet.add(Activation('relu'))\n",
    "# Add Dropout to prevent overfitting\n",
    "AlexNet.add(Dropout(0.4))\n",
    "\n",
    "#2nd Fully Connected Layer\n",
    "AlexNet.add(Dense(4096))\n",
    "AlexNet.add(BatchNormalization())\n",
    "AlexNet.add(Activation('relu'))\n",
    "#Add Dropout\n",
    "AlexNet.add(Dropout(0.4))\n",
    "\n",
    "#Output Layer\n",
    "AlexNet.add(Dense(1))\n",
    "AlexNet.add(Activation('sigmoid'))\n",
    "\n",
    "#Model Summary\n",
    "AlexNet.summary()"
   ]
  },
  {
   "cell_type": "code",
   "execution_count": 16,
   "id": "5ee879a5",
   "metadata": {
    "execution": {
     "iopub.execute_input": "2023-09-01T22:08:39.374485Z",
     "iopub.status.busy": "2023-09-01T22:08:39.374202Z",
     "iopub.status.idle": "2023-09-01T22:30:33.364082Z",
     "shell.execute_reply": "2023-09-01T22:30:33.363137Z"
    },
    "papermill": {
     "duration": 1314.688774,
     "end_time": "2023-09-01T22:30:33.995404",
     "exception": false,
     "start_time": "2023-09-01T22:08:39.306630",
     "status": "completed"
    },
    "tags": []
   },
   "outputs": [
    {
     "name": "stdout",
     "output_type": "stream",
     "text": [
      "Epoch 1/10\n",
      "130/130 [==============================] - 148s 1s/step - loss: 0.0995 - accuracy: 0.8821 - val_loss: 1.6644 - val_accuracy: 0.7433\n",
      "Epoch 2/10\n",
      "130/130 [==============================] - 104s 800ms/step - loss: 0.0685 - accuracy: 0.9259 - val_loss: 2.1192 - val_accuracy: 0.7433\n",
      "Epoch 3/10\n",
      "130/130 [==============================] - 105s 806ms/step - loss: 0.0639 - accuracy: 0.9362 - val_loss: 2.0157 - val_accuracy: 0.7433\n",
      "\n",
      "Epoch 00003: ReduceLROnPlateau reducing learning rate to 5.9999998484272515e-06.\n",
      "Epoch 4/10\n",
      "130/130 [==============================] - 106s 816ms/step - loss: 0.0543 - accuracy: 0.9511 - val_loss: 1.3126 - val_accuracy: 0.7471\n",
      "Epoch 5/10\n",
      "130/130 [==============================] - 106s 809ms/step - loss: 0.0469 - accuracy: 0.9533 - val_loss: 0.1178 - val_accuracy: 0.9617\n",
      "Epoch 6/10\n",
      "130/130 [==============================] - 107s 822ms/step - loss: 0.0476 - accuracy: 0.9561 - val_loss: 0.0697 - val_accuracy: 0.9770\n",
      "Epoch 7/10\n",
      "130/130 [==============================] - 106s 809ms/step - loss: 0.0457 - accuracy: 0.9540 - val_loss: 0.1551 - val_accuracy: 0.9502\n",
      "Epoch 8/10\n",
      "130/130 [==============================] - 105s 805ms/step - loss: 0.0422 - accuracy: 0.9542 - val_loss: 0.4549 - val_accuracy: 0.8458\n",
      "\n",
      "Epoch 00008: ReduceLROnPlateau reducing learning rate to 1.1999999514955563e-06.\n",
      "Epoch 9/10\n",
      "130/130 [==============================] - 103s 790ms/step - loss: 0.0363 - accuracy: 0.9609 - val_loss: 0.1151 - val_accuracy: 0.9626\n",
      "Epoch 10/10\n",
      "130/130 [==============================] - 103s 786ms/step - loss: 0.0368 - accuracy: 0.9621 - val_loss: 0.1682 - val_accuracy: 0.9444\n",
      "\n",
      "Epoch 00010: ReduceLROnPlateau reducing learning rate to 2.3999998575163774e-07.\n"
     ]
    }
   ],
   "source": [
    "tf.keras.backend.clear_session()\n",
    "\n",
    "AlexNet.compile(loss='binary_crossentropy',\n",
    "                optimizer = keras.optimizers.Adam(learning_rate=3e-5),\n",
    "                metrics='accuracy')\n",
    "\n",
    "early_stopping = callbacks.EarlyStopping(monitor='val_loss',\n",
    "                                         patience=5,\n",
    "                                         min_delta=1e-7,\n",
    "                                         restore_best_weights=True,\n",
    "                                        )\n",
    "\n",
    "plateau = callbacks.ReduceLROnPlateau(monitor='val_loss',\n",
    "                                      factor = 0.2,\n",
    "                                      patience = 2,\n",
    "                                      min_delt = 1e-7,\n",
    "                                      cooldown = 0,\n",
    "                                      verbose = 1\n",
    "                                     ) \n",
    "\n",
    "history = AlexNet.fit(ds_train,\n",
    "                      batch_size = BATCH,\n",
    "                      epochs = 10,\n",
    "                      validation_data=ds_val,\n",
    "                      callbacks=[early_stopping, plateau],\n",
    "                      steps_per_epoch=(len(train_df)/BATCH),\n",
    "                      validation_steps=(len(val_df)/BATCH),\n",
    "                      class_weight=class_weight)"
   ]
  },
  {
   "cell_type": "markdown",
   "id": "f8b33085",
   "metadata": {
    "papermill": {
     "duration": 0.584704,
     "end_time": "2023-09-01T22:30:35.165022",
     "exception": false,
     "start_time": "2023-09-01T22:30:34.580318",
     "status": "completed"
    },
    "tags": []
   },
   "source": [
    "# Checking predictions and confusion matrix"
   ]
  },
  {
   "cell_type": "code",
   "execution_count": 17,
   "id": "b7afe0f7",
   "metadata": {
    "execution": {
     "iopub.execute_input": "2023-09-01T22:30:36.386172Z",
     "iopub.status.busy": "2023-09-01T22:30:36.385886Z",
     "iopub.status.idle": "2023-09-01T22:30:36.395727Z",
     "shell.execute_reply": "2023-09-01T22:30:36.394876Z"
    },
    "papermill": {
     "duration": 0.600668,
     "end_time": "2023-09-01T22:30:36.398989",
     "exception": false,
     "start_time": "2023-09-01T22:30:35.798321",
     "status": "completed"
    },
    "tags": []
   },
   "outputs": [
    {
     "data": {
      "text/plain": [
       "0      0\n",
       "1      0\n",
       "2      0\n",
       "3      0\n",
       "4      0\n",
       "      ..\n",
       "619    1\n",
       "620    1\n",
       "621    1\n",
       "622    1\n",
       "623    1\n",
       "Name: class, Length: 624, dtype: int64"
      ]
     },
     "execution_count": 17,
     "metadata": {},
     "output_type": "execute_result"
    }
   ],
   "source": [
    "num_label = {'Normal': 0, 'Pneumonia' : 1}\n",
    "Y_test = df_test['class'].copy().map(num_label).astype('int')\n",
    "Y_test"
   ]
  },
  {
   "cell_type": "code",
   "execution_count": 18,
   "id": "8d657698",
   "metadata": {
    "execution": {
     "iopub.execute_input": "2023-09-01T22:30:37.563588Z",
     "iopub.status.busy": "2023-09-01T22:30:37.563301Z",
     "iopub.status.idle": "2023-09-01T22:30:47.932053Z",
     "shell.execute_reply": "2023-09-01T22:30:47.931083Z"
    },
    "papermill": {
     "duration": 10.953714,
     "end_time": "2023-09-01T22:30:47.935447",
     "exception": false,
     "start_time": "2023-09-01T22:30:36.981733",
     "status": "completed"
    },
    "tags": []
   },
   "outputs": [
    {
     "name": "stdout",
     "output_type": "stream",
     "text": [
      "Test Accuracy:  0.9022435897435898\n"
     ]
    }
   ],
   "source": [
    "# ds_test.reset()\n",
    "predictions = AlexNet.predict(ds_test, steps=len(ds_test), verbose=0)\n",
    "# print(predictions)\n",
    "pred_labels= np.where(predictions>0.5, 1, 0)\n",
    "# print(pred_labels)\n",
    "\n",
    "print(\"Test Accuracy: \", accuracy_score(Y_test, pred_labels))"
   ]
  },
  {
   "cell_type": "markdown",
   "id": "b15cc75a",
   "metadata": {
    "papermill": {
     "duration": 0.586426,
     "end_time": "2023-09-01T22:30:49.118260",
     "exception": false,
     "start_time": "2023-09-01T22:30:48.531834",
     "status": "completed"
    },
    "tags": []
   },
   "source": [
    "# Confusion Matrix"
   ]
  },
  {
   "cell_type": "code",
   "execution_count": 19,
   "id": "d37cf41e",
   "metadata": {
    "execution": {
     "iopub.execute_input": "2023-09-01T22:30:50.286327Z",
     "iopub.status.busy": "2023-09-01T22:30:50.286025Z",
     "iopub.status.idle": "2023-09-01T22:30:50.707363Z",
     "shell.execute_reply": "2023-09-01T22:30:50.706677Z"
    },
    "papermill": {
     "duration": 1.009237,
     "end_time": "2023-09-01T22:30:50.709449",
     "exception": false,
     "start_time": "2023-09-01T22:30:49.700212",
     "status": "completed"
    },
    "tags": []
   },
   "outputs": [
    {
     "data": {
      "image/png": "[encoded data removed]",
      "text/plain": [
       "<Figure size 432x288 with 2 Axes>"
      ]
     },
     "metadata": {
      "needs_background": "light"
     },
     "output_type": "display_data"
    }
   ],
   "source": [
    "confusion_matrix = metrics.confusion_matrix(Y_test, pred_labels)\n",
    "sns.heatmap(confusion_matrix, annot=True, fmt=\"d\")\n",
    "\n",
    "plt.xlabel(\"Predicted Label\", fontsize= 12)\n",
    "plt.ylabel(\"True Label\", fontsize= 12)\n",
    "\n",
    "plt.show()"
   ]
  },
  {
   "cell_type": "markdown",
   "id": "365e4729",
   "metadata": {
    "papermill": {
     "duration": 0.581252,
     "end_time": "2023-09-01T22:30:51.876275",
     "exception": false,
     "start_time": "2023-09-01T22:30:51.295023",
     "status": "completed"
    },
    "tags": []
   },
   "source": [
    "# Classification report"
   ]
  },
  {
   "cell_type": "code",
   "execution_count": 20,
   "id": "e28419be",
   "metadata": {
    "execution": {
     "iopub.execute_input": "2023-09-01T22:30:53.050762Z",
     "iopub.status.busy": "2023-09-01T22:30:53.049983Z",
     "iopub.status.idle": "2023-09-01T22:30:53.062232Z",
     "shell.execute_reply": "2023-09-01T22:30:53.061313Z"
    },
    "papermill": {
     "duration": 0.604276,
     "end_time": "2023-09-01T22:30:53.064261",
     "exception": false,
     "start_time": "2023-09-01T22:30:52.459985",
     "status": "completed"
    },
    "tags": []
   },
   "outputs": [
    {
     "name": "stdout",
     "output_type": "stream",
     "text": [
      "              precision    recall  f1-score   support\n",
      "\n",
      "           0       0.93      0.79      0.86       234\n",
      "           1       0.89      0.97      0.93       390\n",
      "\n",
      "    accuracy                           0.90       624\n",
      "   macro avg       0.91      0.88      0.89       624\n",
      "weighted avg       0.90      0.90      0.90       624\n",
      "\n"
     ]
    }
   ],
   "source": [
    "print(metrics.classification_report(Y_test, pred_labels, labels = [0, 1]))"
   ]
  },
  {
   "cell_type": "markdown",
   "id": "ccadf9d0",
   "metadata": {
    "papermill": {
     "duration": 0.602425,
     "end_time": "2023-09-01T22:30:54.276822",
     "exception": false,
     "start_time": "2023-09-01T22:30:53.674397",
     "status": "completed"
    },
    "tags": []
   },
   "source": [
    "# Builsing Resnet 152 pretrained model."
   ]
  },
  {
   "cell_type": "code",
   "execution_count": 21,
   "id": "dabf16bb",
   "metadata": {
    "execution": {
     "iopub.execute_input": "2023-09-01T22:30:55.467438Z",
     "iopub.status.busy": "2023-09-01T22:30:55.467161Z",
     "iopub.status.idle": "2023-09-01T22:31:05.364905Z",
     "shell.execute_reply": "2023-09-01T22:31:05.364008Z"
    },
    "papermill": {
     "duration": 10.502849,
     "end_time": "2023-09-01T22:31:05.367208",
     "exception": false,
     "start_time": "2023-09-01T22:30:54.864359",
     "status": "completed"
    },
    "tags": []
   },
   "outputs": [
    {
     "name": "stdout",
     "output_type": "stream",
     "text": [
      "Image Size :  227\n",
      "Downloading data from https://storage.googleapis.com/tensorflow/keras-applications/resnet/resnet152v2_weights_tf_dim_ordering_tf_kernels_notop.h5\n",
      "234553344/234545216 [==============================] - 6s 0us/step\n",
      "234561536/234545216 [==============================] - 6s 0us/step\n"
     ]
    }
   ],
   "source": [
    "print(\"Image Size : \", IMG_SIZE)\n",
    "\n",
    "base_model = tf.keras.applications.ResNet152V2(\n",
    "    weights='imagenet',\n",
    "    input_shape=(IMG_SIZE, IMG_SIZE, 3),\n",
    "    include_top=False)\n",
    "\n",
    "base_model.trainable = False\n",
    "\n",
    "def get_pretrained():\n",
    "    inputs = layers.Input(shape=(IMG_SIZE, IMG_SIZE, 3))\n",
    "    x = base_model(inputs)\n",
    "\n",
    "    # Head\n",
    "    x = layers.GlobalAveragePooling2D()(x)\n",
    "    x = layers.Dense(128, activation='relu')(x)\n",
    "    x = layers.Dropout(0.1)(x)\n",
    "    \n",
    "    #Final Layer (Output)\n",
    "    output = layers.Dense(1, activation='sigmoid')(x)\n",
    "    \n",
    "    model = keras.Model(inputs=[inputs], outputs=output)\n",
    "    \n",
    "    return model"
   ]
  },
  {
   "cell_type": "code",
   "execution_count": 22,
   "id": "d462c720",
   "metadata": {
    "execution": {
     "iopub.execute_input": "2023-09-01T22:31:06.731170Z",
     "iopub.status.busy": "2023-09-01T22:31:06.730882Z",
     "iopub.status.idle": "2023-09-01T22:31:07.862248Z",
     "shell.execute_reply": "2023-09-01T22:31:07.861289Z"
    },
    "papermill": {
     "duration": 1.770182,
     "end_time": "2023-09-01T22:31:07.864489",
     "exception": false,
     "start_time": "2023-09-01T22:31:06.094307",
     "status": "completed"
    },
    "tags": []
   },
   "outputs": [],
   "source": [
    "keras.backend.clear_session()\n",
    "\n",
    "model_pretrained = get_pretrained()\n",
    "model_pretrained.compile(loss='binary_crossentropy',\n",
    "                         optimizer = keras.optimizers.Adam(learning_rate=5e-5),\n",
    "                         metrics='binary_accuracy')"
   ]
  },
  {
   "cell_type": "code",
   "execution_count": 23,
   "id": "8bc94e31",
   "metadata": {
    "execution": {
     "iopub.execute_input": "2023-09-01T22:31:09.181344Z",
     "iopub.status.busy": "2023-09-01T22:31:09.181063Z",
     "iopub.status.idle": "2023-09-01T22:31:09.227872Z",
     "shell.execute_reply": "2023-09-01T22:31:09.227094Z"
    },
    "papermill": {
     "duration": 0.712096,
     "end_time": "2023-09-01T22:31:09.230146",
     "exception": false,
     "start_time": "2023-09-01T22:31:08.518050",
     "status": "completed"
    },
    "tags": []
   },
   "outputs": [],
   "source": [
    "base_model.trainable = True\n",
    "\n",
    "# Freeze all layers except for the\n",
    "for layer in base_model.layers[:-13]:\n",
    "    layer.trainable = False"
   ]
  },
  {
   "cell_type": "code",
   "execution_count": 24,
   "id": "56ecd7cf",
   "metadata": {
    "execution": {
     "iopub.execute_input": "2023-09-01T22:31:10.511674Z",
     "iopub.status.busy": "2023-09-01T22:31:10.511357Z",
     "iopub.status.idle": "2023-09-01T22:31:10.563398Z",
     "shell.execute_reply": "2023-09-01T22:31:10.562657Z"
    },
    "papermill": {
     "duration": 0.684492,
     "end_time": "2023-09-01T22:31:10.565405",
     "exception": false,
     "start_time": "2023-09-01T22:31:09.880913",
     "status": "completed"
    },
    "tags": []
   },
   "outputs": [
    {
     "name": "stdout",
     "output_type": "stream",
     "text": [
      "Model: \"model\"\n",
      "_________________________________________________________________\n",
      "Layer (type)                 Output Shape              Param #   \n",
      "=================================================================\n",
      "input_1 (InputLayer)         [(None, 227, 227, 3)]     0         \n",
      "_________________________________________________________________\n",
      "resnet152v2 (Functional)     (None, 8, 8, 2048)        58331648  \n",
      "_________________________________________________________________\n",
      "global_average_pooling2d (Gl (None, 2048)              0         \n",
      "_________________________________________________________________\n",
      "dense (Dense)                (None, 128)               262272    \n",
      "_________________________________________________________________\n",
      "dropout (Dropout)            (None, 128)               0         \n",
      "_________________________________________________________________\n",
      "dense_1 (Dense)              (None, 1)                 129       \n",
      "=================================================================\n",
      "Total params: 58,594,049\n",
      "Trainable params: 4,731,137\n",
      "Non-trainable params: 53,862,912\n",
      "_________________________________________________________________\n"
     ]
    }
   ],
   "source": [
    "model_pretrained.compile(loss='binary_crossentropy',\n",
    "                         optimizer = keras.optimizers.Adam(learning_rate=2e-6),\n",
    "                         metrics='binary_accuracy')\n",
    "\n",
    "model_pretrained.summary()"
   ]
  },
  {
   "cell_type": "code",
   "execution_count": 25,
   "id": "c5eb2f45",
   "metadata": {
    "execution": {
     "iopub.execute_input": "2023-09-01T22:31:11.839259Z",
     "iopub.status.busy": "2023-09-01T22:31:11.838487Z",
     "iopub.status.idle": "2023-09-01T22:52:04.365688Z",
     "shell.execute_reply": "2023-09-01T22:52:04.364761Z"
    },
    "papermill": {
     "duration": 1253.16536,
     "end_time": "2023-09-01T22:52:04.368307",
     "exception": false,
     "start_time": "2023-09-01T22:31:11.202947",
     "status": "completed"
    },
    "tags": []
   },
   "outputs": [
    {
     "name": "stdout",
     "output_type": "stream",
     "text": [
      "Epoch 1/10\n",
      "130/130 [==============================] - 123s 873ms/step - loss: 0.5662 - binary_accuracy: 0.7380 - val_loss: 0.4841 - val_binary_accuracy: 0.7874\n",
      "Epoch 2/10\n",
      "130/130 [==============================] - 111s 851ms/step - loss: 0.4351 - binary_accuracy: 0.8313 - val_loss: 0.3733 - val_binary_accuracy: 0.8649\n",
      "Epoch 3/10\n",
      "130/130 [==============================] - 110s 843ms/step - loss: 0.3587 - binary_accuracy: 0.8708 - val_loss: 0.3092 - val_binary_accuracy: 0.9138\n",
      "Epoch 4/10\n",
      "130/130 [==============================] - 111s 847ms/step - loss: 0.2981 - binary_accuracy: 0.9027 - val_loss: 0.2677 - val_binary_accuracy: 0.9253\n",
      "Epoch 5/10\n",
      "130/130 [==============================] - 112s 855ms/step - loss: 0.2549 - binary_accuracy: 0.9209 - val_loss: 0.2370 - val_binary_accuracy: 0.9310\n",
      "Epoch 6/10\n",
      "130/130 [==============================] - 113s 868ms/step - loss: 0.2352 - binary_accuracy: 0.9207 - val_loss: 0.2149 - val_binary_accuracy: 0.9349\n",
      "Epoch 7/10\n",
      "130/130 [==============================] - 113s 864ms/step - loss: 0.2088 - binary_accuracy: 0.9331 - val_loss: 0.1971 - val_binary_accuracy: 0.9368\n",
      "Epoch 8/10\n",
      "130/130 [==============================] - 113s 863ms/step - loss: 0.1996 - binary_accuracy: 0.9310 - val_loss: 0.1859 - val_binary_accuracy: 0.9387\n",
      "Epoch 9/10\n",
      "130/130 [==============================] - 111s 853ms/step - loss: 0.1749 - binary_accuracy: 0.9406 - val_loss: 0.1719 - val_binary_accuracy: 0.9435\n",
      "Epoch 10/10\n",
      "130/130 [==============================] - 112s 857ms/step - loss: 0.1691 - binary_accuracy: 0.9427 - val_loss: 0.1631 - val_binary_accuracy: 0.9444\n"
     ]
    }
   ],
   "source": [
    "history = model_pretrained.fit(ds_train,\n",
    "          batch_size = BATCH, epochs = 10,\n",
    "          validation_data=ds_val,\n",
    "          callbacks=[early_stopping, plateau],\n",
    "          steps_per_epoch=(len(train_df)/BATCH),\n",
    "          validation_steps=(len(val_df)/BATCH))"
   ]
  },
  {
   "cell_type": "code",
   "execution_count": 26,
   "id": "f7479ce1",
   "metadata": {
    "execution": {
     "iopub.execute_input": "2023-09-01T22:52:07.266673Z",
     "iopub.status.busy": "2023-09-01T22:52:07.266357Z",
     "iopub.status.idle": "2023-09-01T22:52:07.272373Z",
     "shell.execute_reply": "2023-09-01T22:52:07.271664Z"
    },
    "papermill": {
     "duration": 1.605678,
     "end_time": "2023-09-01T22:52:07.274203",
     "exception": false,
     "start_time": "2023-09-01T22:52:05.668525",
     "status": "completed"
    },
    "tags": []
   },
   "outputs": [],
   "source": [
    "num_label = {'Normal': 0, 'Pneumonia' : 1}\n",
    "Y_test = df_test['class'].copy().map(num_label).astype('int')"
   ]
  },
  {
   "cell_type": "code",
   "execution_count": 27,
   "id": "49964f64",
   "metadata": {
    "execution": {
     "iopub.execute_input": "2023-09-01T22:52:09.583141Z",
     "iopub.status.busy": "2023-09-01T22:52:09.582678Z",
     "iopub.status.idle": "2023-09-01T22:52:29.195288Z",
     "shell.execute_reply": "2023-09-01T22:52:29.194467Z"
    },
    "papermill": {
     "duration": 20.770927,
     "end_time": "2023-09-01T22:52:29.197679",
     "exception": false,
     "start_time": "2023-09-01T22:52:08.426752",
     "status": "completed"
    },
    "tags": []
   },
   "outputs": [],
   "source": [
    "predictions = model_pretrained.predict(ds_test, steps=len(ds_test), verbose=0)\n",
    "pred_labels= np.where(predictions>0.5, 1, 0)"
   ]
  },
  {
   "cell_type": "code",
   "execution_count": 28,
   "id": "84009d11",
   "metadata": {
    "execution": {
     "iopub.execute_input": "2023-09-01T22:52:31.523093Z",
     "iopub.status.busy": "2023-09-01T22:52:31.522781Z",
     "iopub.status.idle": "2023-09-01T22:52:31.749325Z",
     "shell.execute_reply": "2023-09-01T22:52:31.748572Z"
    },
    "papermill": {
     "duration": 1.389294,
     "end_time": "2023-09-01T22:52:31.751332",
     "exception": false,
     "start_time": "2023-09-01T22:52:30.362038",
     "status": "completed"
    },
    "tags": []
   },
   "outputs": [
    {
     "data": {
      "image/png": "[encoded data removed]",
      "text/plain": [
       "<Figure size 432x288 with 2 Axes>"
      ]
     },
     "metadata": {
      "needs_background": "light"
     },
     "output_type": "display_data"
    }
   ],
   "source": [
    "confusion_matrix = metrics.confusion_matrix(Y_test, pred_labels)\n",
    "sns.heatmap(confusion_matrix, annot=True, fmt=\"d\")\n",
    "\n",
    "plt.xlabel(\"Predicted Label\", fontsize= 12)\n",
    "plt.ylabel(\"True Label\", fontsize= 12)\n",
    "\n",
    "plt.show()"
   ]
  },
  {
   "cell_type": "code",
   "execution_count": 29,
   "id": "241a9723",
   "metadata": {
    "execution": {
     "iopub.execute_input": "2023-09-01T22:52:34.090285Z",
     "iopub.status.busy": "2023-09-01T22:52:34.090010Z",
     "iopub.status.idle": "2023-09-01T22:52:34.101873Z",
     "shell.execute_reply": "2023-09-01T22:52:34.101152Z"
    },
    "papermill": {
     "duration": 1.180804,
     "end_time": "2023-09-01T22:52:34.104017",
     "exception": false,
     "start_time": "2023-09-01T22:52:32.923213",
     "status": "completed"
    },
    "tags": []
   },
   "outputs": [
    {
     "name": "stdout",
     "output_type": "stream",
     "text": [
      "              precision    recall  f1-score   support\n",
      "\n",
      "           0       0.92      0.61      0.73       234\n",
      "           1       0.80      0.97      0.88       390\n",
      "\n",
      "    accuracy                           0.83       624\n",
      "   macro avg       0.86      0.79      0.81       624\n",
      "weighted avg       0.85      0.83      0.82       624\n",
      "\n"
     ]
    }
   ],
   "source": [
    "print(metrics.classification_report(Y_test, pred_labels, labels = [0, 1]))"
   ]
  },
  {
   "cell_type": "markdown",
   "id": "be5362f2",
   "metadata": {
    "papermill": {
     "duration": 1.23092,
     "end_time": "2023-09-01T22:52:36.593217",
     "exception": false,
     "start_time": "2023-09-01T22:52:35.362297",
     "status": "completed"
    },
    "tags": []
   },
   "source": [
    "# Resnet50"
   ]
  },
  {
   "cell_type": "code",
   "execution_count": 30,
   "id": "cc6af483",
   "metadata": {
    "execution": {
     "iopub.execute_input": "2023-09-01T22:52:39.398518Z",
     "iopub.status.busy": "2023-09-01T22:52:39.397755Z",
     "iopub.status.idle": "2023-09-01T22:52:44.056167Z",
     "shell.execute_reply": "2023-09-01T22:52:44.055272Z"
    },
    "papermill": {
     "duration": 6.137777,
     "end_time": "2023-09-01T22:52:44.058639",
     "exception": false,
     "start_time": "2023-09-01T22:52:37.920862",
     "status": "completed"
    },
    "tags": []
   },
   "outputs": [
    {
     "name": "stdout",
     "output_type": "stream",
     "text": [
      "Image Size :  227\n",
      "Downloading data from https://storage.googleapis.com/tensorflow/keras-applications/resnet/resnet50_weights_tf_dim_ordering_tf_kernels_notop.h5\n",
      "94773248/94765736 [==============================] - 3s 0us/step\n",
      "94781440/94765736 [==============================] - 3s 0us/step\n"
     ]
    }
   ],
   "source": [
    "print(\"Image Size : \", IMG_SIZE)\n",
    "\n",
    "base_model = tf.keras.applications.ResNet50(\n",
    "    weights='imagenet',\n",
    "    input_shape=(IMG_SIZE, IMG_SIZE, 3),\n",
    "    include_top=False)\n",
    "\n",
    "def get_pretrained():\n",
    "    inputs = layers.Input(shape=(IMG_SIZE, IMG_SIZE, 3))\n",
    "    x = base_model(inputs)\n",
    "\n",
    "    # Head\n",
    "    x = layers.GlobalAveragePooling2D()(x)\n",
    "    x = layers.Dense(128, activation='relu')(x)\n",
    "    x = layers.Dropout(0.1)(x)\n",
    "    \n",
    "    #Final Layer (Output)\n",
    "    output = layers.Dense(1, activation='sigmoid')(x)\n",
    "    \n",
    "    model = keras.Model(inputs=[inputs], outputs=output)\n",
    "    \n",
    "    return model"
   ]
  },
  {
   "cell_type": "code",
   "execution_count": 31,
   "id": "3563e1b4",
   "metadata": {
    "execution": {
     "iopub.execute_input": "2023-09-01T22:52:46.478484Z",
     "iopub.status.busy": "2023-09-01T22:52:46.478195Z",
     "iopub.status.idle": "2023-09-01T22:52:46.495221Z",
     "shell.execute_reply": "2023-09-01T22:52:46.494464Z"
    },
    "papermill": {
     "duration": 1.260471,
     "end_time": "2023-09-01T22:52:46.497113",
     "exception": false,
     "start_time": "2023-09-01T22:52:45.236642",
     "status": "completed"
    },
    "tags": []
   },
   "outputs": [],
   "source": [
    "base_model.trainable = True\n",
    "\n",
    "# Freeze all layers except for the\n",
    "for layer in base_model.layers[:-13]:\n",
    "    layer.trainable = False"
   ]
  },
  {
   "cell_type": "code",
   "execution_count": 32,
   "id": "6ec08f00",
   "metadata": {
    "execution": {
     "iopub.execute_input": "2023-09-01T22:52:48.852136Z",
     "iopub.status.busy": "2023-09-01T22:52:48.851489Z",
     "iopub.status.idle": "2023-09-01T22:52:49.362249Z",
     "shell.execute_reply": "2023-09-01T22:52:49.361297Z"
    },
    "papermill": {
     "duration": 1.692952,
     "end_time": "2023-09-01T22:52:49.364368",
     "exception": false,
     "start_time": "2023-09-01T22:52:47.671416",
     "status": "completed"
    },
    "tags": []
   },
   "outputs": [
    {
     "name": "stdout",
     "output_type": "stream",
     "text": [
      "Model: \"model\"\n",
      "_________________________________________________________________\n",
      "Layer (type)                 Output Shape              Param #   \n",
      "=================================================================\n",
      "input_1 (InputLayer)         [(None, 227, 227, 3)]     0         \n",
      "_________________________________________________________________\n",
      "resnet50 (Functional)        (None, 8, 8, 2048)        23587712  \n",
      "_________________________________________________________________\n",
      "global_average_pooling2d (Gl (None, 2048)              0         \n",
      "_________________________________________________________________\n",
      "dense (Dense)                (None, 128)               262272    \n",
      "_________________________________________________________________\n",
      "dropout (Dropout)            (None, 128)               0         \n",
      "_________________________________________________________________\n",
      "dense_1 (Dense)              (None, 1)                 129       \n",
      "=================================================================\n",
      "Total params: 23,850,113\n",
      "Trainable params: 4,732,161\n",
      "Non-trainable params: 19,117,952\n",
      "_________________________________________________________________\n"
     ]
    }
   ],
   "source": [
    "keras.backend.clear_session()\n",
    "\n",
    "model_pretrained = get_pretrained()\n",
    "\n",
    "model_pretrained.compile(loss='binary_crossentropy',\n",
    "                         optimizer = keras.optimizers.Adam(learning_rate=2e-6),\n",
    "                         metrics='binary_accuracy')\n",
    "\n",
    "model_pretrained.summary()"
   ]
  },
  {
   "cell_type": "code",
   "execution_count": 33,
   "id": "1cd23aa8",
   "metadata": {
    "execution": {
     "iopub.execute_input": "2023-09-01T22:52:51.814469Z",
     "iopub.status.busy": "2023-09-01T22:52:51.813695Z",
     "iopub.status.idle": "2023-09-01T22:52:51.828281Z",
     "shell.execute_reply": "2023-09-01T22:52:51.827552Z"
    },
    "papermill": {
     "duration": 1.284554,
     "end_time": "2023-09-01T22:52:51.830193",
     "exception": false,
     "start_time": "2023-09-01T22:52:50.545639",
     "status": "completed"
    },
    "tags": []
   },
   "outputs": [],
   "source": [
    "model_pretrained.compile(loss='binary_crossentropy',\n",
    "                         optimizer = tf.keras.optimizers.Adam(learning_rate=2e-6),\n",
    "                         metrics='binary_accuracy')"
   ]
  },
  {
   "cell_type": "code",
   "execution_count": 34,
   "id": "6aa9b302",
   "metadata": {
    "execution": {
     "iopub.execute_input": "2023-09-01T22:52:54.240621Z",
     "iopub.status.busy": "2023-09-01T22:52:54.239786Z",
     "iopub.status.idle": "2023-09-01T22:52:54.246288Z",
     "shell.execute_reply": "2023-09-01T22:52:54.245556Z"
    },
    "papermill": {
     "duration": 1.236148,
     "end_time": "2023-09-01T22:52:54.248127",
     "exception": false,
     "start_time": "2023-09-01T22:52:53.011979",
     "status": "completed"
    },
    "tags": []
   },
   "outputs": [],
   "source": [
    "early_stopping = callbacks.EarlyStopping(monitor='val_loss',\n",
    "                                         patience=5,\n",
    "                                         min_delta=1e-7,\n",
    "                                         restore_best_weights=True,\n",
    "                                        )\n",
    "\n",
    "plateau = callbacks.ReduceLROnPlateau(monitor='val_loss',\n",
    "                                      factor = 0.2,\n",
    "                                      patience = 2,\n",
    "                                      min_delt = 1e-7,\n",
    "                                      cooldown = 0,\n",
    "                                      verbose = 1\n",
    "                                     ) "
   ]
  },
  {
   "cell_type": "code",
   "execution_count": 35,
   "id": "ec768ce6",
   "metadata": {
    "execution": {
     "iopub.execute_input": "2023-09-01T22:52:56.749122Z",
     "iopub.status.busy": "2023-09-01T22:52:56.748839Z",
     "iopub.status.idle": "2023-09-01T23:11:54.157422Z",
     "shell.execute_reply": "2023-09-01T23:11:54.156530Z"
    },
    "papermill": {
     "duration": 1140.395966,
     "end_time": "2023-09-01T23:11:55.894093",
     "exception": false,
     "start_time": "2023-09-01T22:52:55.498127",
     "status": "completed"
    },
    "tags": []
   },
   "outputs": [
    {
     "name": "stdout",
     "output_type": "stream",
     "text": [
      "Epoch 1/10\n",
      "130/130 [==============================] - 111s 827ms/step - loss: 0.5563 - binary_accuracy: 0.7428 - val_loss: 0.5681 - val_binary_accuracy: 0.7433\n",
      "Epoch 2/10\n",
      "130/130 [==============================] - 105s 810ms/step - loss: 0.5191 - binary_accuracy: 0.7426 - val_loss: 0.5330 - val_binary_accuracy: 0.7433\n",
      "Epoch 3/10\n",
      "130/130 [==============================] - 105s 806ms/step - loss: 0.4864 - binary_accuracy: 0.7438 - val_loss: 0.4729 - val_binary_accuracy: 0.7433\n",
      "Epoch 4/10\n",
      "130/130 [==============================] - 104s 798ms/step - loss: 0.4477 - binary_accuracy: 0.7622 - val_loss: 0.4255 - val_binary_accuracy: 0.7835\n",
      "Epoch 5/10\n",
      "130/130 [==============================] - 107s 820ms/step - loss: 0.4080 - binary_accuracy: 0.7979 - val_loss: 0.3817 - val_binary_accuracy: 0.8420\n",
      "Epoch 6/10\n",
      "130/130 [==============================] - 107s 817ms/step - loss: 0.3754 - binary_accuracy: 0.8267 - val_loss: 0.3537 - val_binary_accuracy: 0.8649\n",
      "Epoch 7/10\n",
      "130/130 [==============================] - 106s 810ms/step - loss: 0.3492 - binary_accuracy: 0.8370 - val_loss: 0.3198 - val_binary_accuracy: 0.8803\n",
      "Epoch 8/10\n",
      "130/130 [==============================] - 105s 807ms/step - loss: 0.3345 - binary_accuracy: 0.8490 - val_loss: 0.2907 - val_binary_accuracy: 0.8793\n",
      "Epoch 9/10\n",
      "130/130 [==============================] - 106s 808ms/step - loss: 0.3162 - binary_accuracy: 0.8591 - val_loss: 0.2707 - val_binary_accuracy: 0.9033\n",
      "Epoch 10/10\n",
      "130/130 [==============================] - 106s 811ms/step - loss: 0.2948 - binary_accuracy: 0.8713 - val_loss: 0.2515 - val_binary_accuracy: 0.9148\n"
     ]
    }
   ],
   "source": [
    "history = model_pretrained.fit(ds_train,\n",
    "          batch_size = BATCH, epochs = 10,\n",
    "          validation_data=ds_val,\n",
    "          callbacks=[early_stopping, plateau],\n",
    "          steps_per_epoch=(len(train_df)/BATCH),\n",
    "          validation_steps=(len(val_df)/BATCH))"
   ]
  },
  {
   "cell_type": "code",
   "execution_count": 36,
   "id": "d16e5aa6",
   "metadata": {
    "execution": {
     "iopub.execute_input": "2023-09-01T23:11:59.305999Z",
     "iopub.status.busy": "2023-09-01T23:11:59.305712Z",
     "iopub.status.idle": "2023-09-01T23:12:33.128139Z",
     "shell.execute_reply": "2023-09-01T23:12:33.127309Z"
    },
    "papermill": {
     "duration": 37.211131,
     "end_time": "2023-09-01T23:12:34.820081",
     "exception": false,
     "start_time": "2023-09-01T23:11:57.608950",
     "status": "completed"
    },
    "tags": []
   },
   "outputs": [
    {
     "name": "stdout",
     "output_type": "stream",
     "text": [
      "Val loss: 0.2515294551849365\n",
      "Val accuracy: 0.9147509336471558\n",
      "Test loss: 0.43956589698791504\n",
      "Test accuracy: 0.7932692170143127\n"
     ]
    }
   ],
   "source": [
    "score = model_pretrained.evaluate(ds_val, steps = len(val_df)/BATCH, verbose = 0)\n",
    "print('Val loss:', score[0])\n",
    "print('Val accuracy:', score[1])\n",
    "\n",
    "score = model_pretrained.evaluate(ds_test, steps = len(df_test), verbose = 0)\n",
    "print('Test loss:', score[0])\n",
    "print('Test accuracy:', score[1])"
   ]
  },
  {
   "cell_type": "code",
   "execution_count": 37,
   "id": "99d135dd",
   "metadata": {
    "execution": {
     "iopub.execute_input": "2023-09-01T23:12:38.291274Z",
     "iopub.status.busy": "2023-09-01T23:12:38.290520Z",
     "iopub.status.idle": "2023-09-01T23:12:38.298340Z",
     "shell.execute_reply": "2023-09-01T23:12:38.297495Z"
    },
    "papermill": {
     "duration": 1.729566,
     "end_time": "2023-09-01T23:12:38.300389",
     "exception": false,
     "start_time": "2023-09-01T23:12:36.570823",
     "status": "completed"
    },
    "tags": []
   },
   "outputs": [],
   "source": [
    "num_label = {'Normal': 0, 'Pneumonia' : 1}\n",
    "Y_test = df_test['class'].copy().map(num_label).astype('int')"
   ]
  },
  {
   "cell_type": "code",
   "execution_count": 38,
   "id": "2d043b93",
   "metadata": {
    "execution": {
     "iopub.execute_input": "2023-09-01T23:12:41.723273Z",
     "iopub.status.busy": "2023-09-01T23:12:41.723004Z",
     "iopub.status.idle": "2023-09-01T23:12:51.699751Z",
     "shell.execute_reply": "2023-09-01T23:12:51.698909Z"
    },
    "papermill": {
     "duration": 11.686056,
     "end_time": "2023-09-01T23:12:51.702066",
     "exception": false,
     "start_time": "2023-09-01T23:12:40.016010",
     "status": "completed"
    },
    "tags": []
   },
   "outputs": [],
   "source": [
    "predictions = model_pretrained.predict(ds_test, steps=len(ds_test), verbose=0)\n",
    "pred_labels= np.where(predictions>0.5, 1, 0)"
   ]
  },
  {
   "cell_type": "code",
   "execution_count": 39,
   "id": "643322dc",
   "metadata": {
    "execution": {
     "iopub.execute_input": "2023-09-01T23:12:55.732402Z",
     "iopub.status.busy": "2023-09-01T23:12:55.732114Z",
     "iopub.status.idle": "2023-09-01T23:12:55.961181Z",
     "shell.execute_reply": "2023-09-01T23:12:55.960454Z"
    },
    "papermill": {
     "duration": 2.212403,
     "end_time": "2023-09-01T23:12:55.963043",
     "exception": false,
     "start_time": "2023-09-01T23:12:53.750640",
     "status": "completed"
    },
    "tags": []
   },
   "outputs": [
    {
     "data": {
      "image/png": "[encoded data removed]",
      "text/plain": [
       "<Figure size 432x288 with 2 Axes>"
      ]
     },
     "metadata": {
      "needs_background": "light"
     },
     "output_type": "display_data"
    }
   ],
   "source": [
    "confusion_matrix = metrics.confusion_matrix(Y_test, pred_labels)\n",
    "sns.heatmap(confusion_matrix, annot=True, fmt=\"d\")\n",
    "\n",
    "plt.xlabel(\"Predicted Label\", fontsize= 12)\n",
    "plt.ylabel(\"True Label\", fontsize= 12)\n",
    "\n",
    "plt.show()"
   ]
  },
  {
   "cell_type": "code",
   "execution_count": 40,
   "id": "376eb058",
   "metadata": {
    "execution": {
     "iopub.execute_input": "2023-09-01T23:12:59.392245Z",
     "iopub.status.busy": "2023-09-01T23:12:59.391969Z",
     "iopub.status.idle": "2023-09-01T23:12:59.402892Z",
     "shell.execute_reply": "2023-09-01T23:12:59.402033Z"
    },
    "papermill": {
     "duration": 1.717848,
     "end_time": "2023-09-01T23:12:59.405119",
     "exception": false,
     "start_time": "2023-09-01T23:12:57.687271",
     "status": "completed"
    },
    "tags": []
   },
   "outputs": [
    {
     "name": "stdout",
     "output_type": "stream",
     "text": [
      "              precision    recall  f1-score   support\n",
      "\n",
      "           0       0.87      0.53      0.66       234\n",
      "           1       0.77      0.95      0.85       390\n",
      "\n",
      "    accuracy                           0.79       624\n",
      "   macro avg       0.82      0.74      0.75       624\n",
      "weighted avg       0.81      0.79      0.78       624\n",
      "\n"
     ]
    }
   ],
   "source": [
    "print(metrics.classification_report(Y_test, pred_labels, labels = [0, 1]))"
   ]
  }
 ],
 "kernelspec": {
  "display_name": "Python 3",
  "language": "python",
  "name": "python3"
 },
 "language_info": {
  "codemirror_mode": {
   "name": "ipython",
   "version": 3
  },
  "file_extension": ".py",
  "mimetype": "text/x-python",
  "name": "python",
  "nbconvert_exporter": "python",
  "pygments_lexer": "ipython3",
  "version": "3.6.4"
 },
 "metadata": {
  "kernelspec": {
   "display_name": "Python 3",
   "language": "python",
   "name": "python3"
  },
  "language_info": {
   "codemirror_mode": {
    "name": "ipython",
    "version": 3
   },
   "file_extension": ".py",
   "mimetype": "text/x-python",
   "name": "python",
   "nbconvert_exporter": "python",
   "pygments_lexer": "ipython3",
   "version": "3.7.12"
  },
  "papermill": {
   "default_parameters": {},
   "duration": 3896.864618,
   "end_time": "2023-09-01T23:13:04.323142",
   "environment_variables": {},
   "exception": null,
   "input_path": "__notebook__.ipynb",
   "output_path": "__notebook__.ipynb",
   "parameters": {},
   "start_time": "2023-09-01T22:08:07.458524",
   "version": "2.3.4"
  }
 },
 "nbformat": 4,
 "nbformat_minor": 5
}
